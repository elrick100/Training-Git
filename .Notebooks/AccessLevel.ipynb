{
    "metadata": {
        "kernelspec": {
            "name": "SQL",
            "display_name": "SQL",
            "language": "sql"
        },
        "language_info": {
            "name": "sql",
            "version": ""
        }
    },
    "nbformat_minor": 2,
    "nbformat": 4,
    "cells": [
        {
            "cell_type": "markdown",
            "source": [
                "## ***SET | Access Level for Emp***"
            ],
            "metadata": {
                "azdata_cell_guid": "12500b70-23fd-44bc-9033-8efdc1dc0cb8"
            }
        },
        {
            "cell_type": "code",
            "source": [
                "\r\n",
                "ALTER VIEW [dbo].[TrainerList]\r\n",
                "AS(\r\n",
                "SELECT EMP_Plant,\r\n",
                "       EMP_EmpID,\r\n",
                "       EMP_FirstName,\r\n",
                "       EMP_LastName,\r\n",
                "       EMP_LongName,\r\n",
                "       EMP_EmpStatus,\r\n",
                "       EMP_StartDate,\r\n",
                "       EMP_Dept,\r\n",
                "       EMP_Role,\r\n",
                "       EMP_JobTitle,\r\n",
                "       EMP_ReportsTo,\r\n",
                "       EMP_ShiftDesc,\r\n",
                "       CASE\r\n",
                "           WHEN EMP_Dept = 'NPI' THEN\r\n",
                "               1\r\n",
                "           WHEN EMP_Role = 'TRAINER' THEN\r\n",
                "               1\r\n",
                "           WHEN EMP_EmpID = '100943' THEN\r\n",
                "               1\r\n",
                "           WHEN EMP_EmpID IN ( '100252', '105935', '100328', '106417', '104322', '108171', '104698', '103486',\r\n",
                "                               '108237', '102850', '104521', '101465', '101374', '102119', '100765', '100294',\r\n",
                "                               '102518', '101101', '100211', '105018', '100143', '103989', '100214', '106607',\r\n",
                "                               '105233', '104327', '101105', '100394', '100113', '101582', '100375', '100218',\r\n",
                "                               '103842', '106177', '100561', '102112', '100561', '112110', '101311', '100989',\r\n",
                "                               '101062', '101585', '103842', '107553', '100294', '100765', '100967', '100420',\r\n",
                "                               '100203', '102269', '104521', '109353', '110429', '110147', '100206', '112112',\r\n",
                "                               '112119', '107996', '108416', '101441', '106839', '107751', '109061', '100189',\r\n",
                "                               '102102', '106872', '102918', '106894', '106647', '101465', '109236', '105233'\r\n",
                "                             ) THEN\r\n",
                "               1\r\n",
                "           ELSE\r\n",
                "               0\r\n",
                "       END AS TrainerFlag\r\n",
                "FROM PRODDIST.dbo.Base_EMPBasic AS a);\r\n",
                "GO\r\n",
                ""
            ],
            "metadata": {
                "azdata_cell_guid": "6427c73e-d7fe-426f-8977-cda7364ad9f9",
                "tags": [
                    "hide_input"
                ]
            },
            "outputs": [],
            "execution_count": null
        }
    ]
}